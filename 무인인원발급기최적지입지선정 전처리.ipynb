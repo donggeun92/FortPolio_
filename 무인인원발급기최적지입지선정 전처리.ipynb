{
 "cells": [
  {
   "cell_type": "code",
   "execution_count": 1,
   "metadata": {},
   "outputs": [],
   "source": [
    "import numpy as np\n",
    "import pandas as pd\n",
    "from pandas import DataFrame\n",
    "from datetime import datetime\n",
    "import geopandas as gpd\n",
    "import os\n",
    "from shapely.geometry import Polygon, LineString, Point\n",
    "from fiona.crs import from_string"
   ]
  },
  {
   "cell_type": "code",
   "execution_count": null,
   "metadata": {},
   "outputs": [],
   "source": [
    "df = []"
   ]
  },
  {
   "cell_type": "code",
   "execution_count": null,
   "metadata": {},
   "outputs": [],
   "source": [
    "df = pd.read_csv('daegu_service_pcell_time_pop_202101.csv', sep = '|')  # sep는 엑셀파일에서 하나의 셀에 '|'을 기준으로 모든 속성과 값이 들어 있을 때 \n",
    "                                                                        # 분리하여 각 값을 하나의 셀에 넣어 만들어주는 역할을 한다."
   ]
  },
  {
   "cell_type": "code",
   "execution_count": null,
   "metadata": {},
   "outputs": [],
   "source": [
    "df.dtypes       # 먼저 각 속성의 데이터타입을 확인한다."
   ]
  },
  {
   "cell_type": "code",
   "execution_count": null,
   "metadata": {},
   "outputs": [],
   "source": [
    "df['HCODE'] = df['HCODE'].apply(str)  # 속성 HCODE의 속성을 문자열로 바꿔준다. 왜냐하면 특정문자를 포함하는 행만 추출하기 위해서 \n",
    "                                      # 숫자타입으로는 조건을 줄 수 없어서 문자형태로 고쳐준 것이다.\n",
    "                                      # 문자타입으로 고쳐진 속성은 특정문자를 포함하는 행을 추출할 수 있다."
   ]
  },
  {
   "cell_type": "code",
   "execution_count": null,
   "metadata": {},
   "outputs": [],
   "source": [
    "df = df[df['HCODE'].str.contains('27290')]     # 문자열 27290을 포함하는 행 추출\n",
    "HCODE['HCODE'].unique()                        # 속성의 유니크한 값을 추출"
   ]
  },
  {
   "cell_type": "code",
   "execution_count": null,
   "metadata": {},
   "outputs": [],
   "source": [
    "df['STD_YMD'] = pd.to_datetime(df['STD_YMD'], format = '%Y%m%d')  # ['STD_YMD']속성을 데이터타임의 형태로 바꾸고, 연도가 4자리\n",
    "                                                                  # 월이 2자리 일이 2자리인 형태로 나타내라는 의미"
   ]
  },
  {
   "cell_type": "code",
   "execution_count": null,
   "metadata": {},
   "outputs": [],
   "source": [
    "df['WKDY_CD'] = df.STD_YMD.dt.dayname()    # weekday code 속성을 새로 만들고 STD_YMD를 기준으로 문자형태의 요일을 추출하라\n",
    "df['WKDY_CD'] = df['WKDY_CD'].str[:3]      # ['WKDY_CD'] 속성에서 0,1,2에 해당하는 문자만 추출하라 "
   ]
  },
  {
   "cell_type": "code",
   "execution_count": null,
   "metadata": {},
   "outputs": [],
   "source": [
    "ex1 = pd.melt(df,id_vars = ['STD_YMD','X_COORD','Y_COORD','HCODE','WKDY_CD'], value_vars = ['W_T_00','W_T_00','W_T_00','W_T_00','W_T_00','W_T_00','W_T_00','W_T_00','W_T_23']).sort_values(by = ['STD_YMD','X_COORD','Y_COORD'])\n",
    "# id_vars는 고정값 , vaule_vars는 세로로 붙여질 값들, sort_values 정렬기준"
   ]
  },
  {
   "cell_type": "code",
   "execution_count": null,
   "metadata": {},
   "outputs": [],
   "source": [
    "ex1.rename(columns = {'value' : 'WPOP'}, inplace = True)    # value라는 속성의 열속성 이름을 WPOP로 변경하라\n",
    "ex1.rename(columns = {'variable' : 'TIME'}, inplace = True) # variable라는 속성의 열속성 이름을 TIME로 변경하라"
   ]
  },
  {
   "cell_type": "code",
   "execution_count": null,
   "metadata": {},
   "outputs": [],
   "source": [
    "ex2 = pd.melt(df,id_vars = ['STD_YMD','X_COORD','Y_COORD','HCODE','WKDY_CD'], value_vars = ['V_T_00','V_T_00','V_T_00','V_T_00','V_T_00','W_T_00','W_T_00','W_T_00','W_T_23']).sort_values(by = ['STD_YMD','X_COORD','Y_COORD'])\n",
    "ex2.rename(columns = {'value' : 'VPOP'}, inplace = True)\n",
    "ex2 = ex2[['VPOP']]"
   ]
  },
  {
   "cell_type": "code",
   "execution_count": null,
   "metadata": {},
   "outputs": [],
   "source": [
    "ex3 = pd.melt(df,id_vars = ['STD_YMD','X_COORD','Y_COORD','HCODE','WKDY_CD'], value_vars = ['H_T_00','H_T_00','H_T_00','H_T_00','H_T_00','W_T_00','W_T_00','W_T_00','W_T_23']).sort_values(by = ['STD_YMD','X_COORD','Y_COORD'])\n",
    "ex3.rename(columns = {'value' : 'HPOP'}, inplace = True)\n",
    "ex3 = ex3[['HPOP']]"
   ]
  },
  {
   "cell_type": "code",
   "execution_count": null,
   "metadata": {},
   "outputs": [],
   "source": [
    "final = pd.concat([ex1, ex2, ex3], axis = 1) # 열(옆에)로 붙여라 "
   ]
  },
  {
   "cell_type": "code",
   "execution_count": null,
   "metadata": {},
   "outputs": [],
   "source": [
    "df = final"
   ]
  },
  {
   "cell_type": "code",
   "execution_count": null,
   "metadata": {},
   "outputs": [],
   "source": [
    "df = df[['STD_YMD','X_COORD','Y_COORD','HCODE','WKDY_CD','TIME','HPOP','WPOP','VPOP']]  # 원하는 열 순서대로 만들기"
   ]
  },
  {
   "cell_type": "code",
   "execution_count": null,
   "metadata": {},
   "outputs": [],
   "source": [
    "df['TIME'] = df['TIME'].str[4:]   # TIME 속성의 값의 4번쨰 부터 끝까지만 추출해서 다시 TIME열에 넣기 "
   ]
  },
  {
   "cell_type": "code",
   "execution_count": null,
   "metadata": {},
   "outputs": [],
   "source": [
    "df['WKDY_CD'] = df['WKDY_CD'].str.upper()"
   ]
  },
  {
   "cell_type": "code",
   "execution_count": null,
   "metadata": {},
   "outputs": [],
   "source": [
    "df['HCODE'] = df['HCODE'].apply(str) \n",
    "df['HCODE'] = df['HCODE'].replace(['2729058500','2729060200','2729057700'......],['22000','23000','24000'......]) \n",
    "df['HCODE'].unique()"
   ]
  },
  {
   "cell_type": "code",
   "execution_count": null,
   "metadata": {},
   "outputs": [],
   "source": [
    "df['TIME'] = df['TIME'].apply(str)\n",
    "df['STD_YMD'] = df['STD_YMD'].apply(str)"
   ]
  },
  {
   "cell_type": "code",
   "execution_count": null,
   "metadata": {},
   "outputs": [],
   "source": [
    "df['STD_YMD'] = df['STD_YMD'].str[:4] + df['STD_YMD'].str[5:7]   #202101\n",
    "df['STD_YMD'] = pd.to_numeric(df['STD_YMD'])"
   ]
  },
  {
   "cell_type": "code",
   "execution_count": null,
   "metadata": {},
   "outputs": [],
   "source": [
    "sample_csv = df"
   ]
  },
  {
   "cell_type": "code",
   "execution_count": null,
   "metadata": {},
   "outputs": [],
   "source": [
    "epsg4326 = from_string(\"+proj=longlat +ellps=WGS84 +datum=WGS84 +no_defs\")\n",
    "epsg5179 = from_string(\"+proj=tmerc +lat_0=38 +lon_0=127.5 +k=0.9996 +x_0=1000000 +y_0=2000000 +ellps=GRS80 +units=m +no_defs\")"
   ]
  },
  {
   "cell_type": "code",
   "execution_count": null,
   "metadata": {},
   "outputs": [],
   "source": [
    "sample_shp = gpd.GeoDataFrame.from_file('C:/Users/빅데이터활용센터/next/nlsp_031001001.shp', encoding='utf-8')\n",
    "sample_shp.crs = epsg5179"
   ]
  },
  {
   "cell_type": "code",
   "execution_count": null,
   "metadata": {},
   "outputs": [],
   "source": [
    "sample_csv['xcode'] = sample_csv['xcode'].astype(float)\n",
    "sample_csv['ycode'] = sample_csv['ycode'].astype(float)\n",
    "sample_csv['geometry'] = sample_csv.apply(lambda row : Point([row['xcode'], row['ycode']]), axis=1)\n",
    "sample_csv = gpd.GeoDataFrame(sample_csv, geometry='geometry', crs = epsg5179)"
   ]
  },
  {
   "cell_type": "code",
   "execution_count": null,
   "metadata": {},
   "outputs": [],
   "source": [
    "result = gpd.sjoin(sample_csv, sample_shp, how='left', predicate=\"intersects\")\n",
    "result = result[['STD_YMD','gid','HCODE','WKDY_CD','TIME','HPOP','WPOP','VPOP']]\n",
    "result.rename(columns = {'gid' : 'INDEX_ID'}, inplace = True)"
   ]
  },
  {
   "cell_type": "code",
   "execution_count": null,
   "metadata": {},
   "outputs": [],
   "source": [
    "result = result.groupby(['STD_YMD','INDEX_ID','HCODE','WKDY_CD','TIME']).agg('sum')"
   ]
  },
  {
   "cell_type": "code",
   "execution_count": null,
   "metadata": {},
   "outputs": [],
   "source": [
    "result"
   ]
  },
  {
   "cell_type": "code",
   "execution_count": null,
   "metadata": {},
   "outputs": [],
   "source": [
    "result.to_csv('202101(최종).csv', encoding = 'ansi', index = True, sep = '|')"
   ]
  }
 ],
 "metadata": {
  "kernelspec": {
   "display_name": "Python 3 (ipykernel)",
   "language": "python",
   "name": "python3"
  },
  "language_info": {
   "codemirror_mode": {
    "name": "ipython",
    "version": 3
   },
   "file_extension": ".py",
   "mimetype": "text/x-python",
   "name": "python",
   "nbconvert_exporter": "python",
   "pygments_lexer": "ipython3",
   "version": "3.7.1"
  }
 },
 "nbformat": 4,
 "nbformat_minor": 4
}
